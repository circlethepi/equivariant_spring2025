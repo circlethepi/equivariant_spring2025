{
 "cells": [
  {
   "cell_type": "code",
   "execution_count": 5,
   "metadata": {},
   "outputs": [],
   "source": [
    "from src import notebook, datasets, build_models,caluclate_basis, custom_blocks, train, utils\n",
    "import torch\n",
    "import torch.nn as nn\n",
    "import torchvision.models as models\n",
    "import torch.optim as optim\n",
    "import matplotlib.pyplot as plt\n",
    "import numpy as np \n",
    "import argparse\n",
    "from tqdm import tqdm   \n",
    "from torchsummary import summary"
   ]
  },
  {
   "cell_type": "code",
   "execution_count": 8,
   "metadata": {},
   "outputs": [
    {
     "name": "stderr",
     "output_type": "stream",
     "text": [
      "C:\\Users\\adamy\\AppData\\Local\\Packages\\PythonSoftwareFoundation.Python.3.11_qbz5n2kfra8p0\\LocalCache\\local-packages\\Python311\\site-packages\\torchvision\\models\\_utils.py:208: UserWarning: The parameter 'pretrained' is deprecated since 0.13 and may be removed in the future, please use 'weights' instead.\n",
      "  warnings.warn(\n",
      "C:\\Users\\adamy\\AppData\\Local\\Packages\\PythonSoftwareFoundation.Python.3.11_qbz5n2kfra8p0\\LocalCache\\local-packages\\Python311\\site-packages\\torchvision\\models\\_utils.py:223: UserWarning: Arguments other than a weight enum or `None` for 'weights' are deprecated since 0.13 and may be removed in the future. The current behavior is equivalent to passing `weights=ResNet18_Weights.IMAGENET1K_V1`. You can also use `weights=ResNet18_Weights.DEFAULT` to get the most up-to-date weights.\n",
      "  warnings.warn(msg)\n"
     ]
    },
    {
     "name": "stdout",
     "output_type": "stream",
     "text": [
      "Device: cuda\n"
     ]
    },
    {
     "name": "stderr",
     "output_type": "stream",
     "text": [
      "100%|██████████| 625/625 [00:44<00:00, 14.14it/s]\n",
      "100%|██████████| 157/157 [00:14<00:00, 10.59it/s]\n"
     ]
    },
    {
     "name": "stdout",
     "output_type": "stream",
     "text": [
      "Epoch 1/10, Loss: 2.9578, Train Accuracy: 26.96%, Validation Accuracy: 35.46%\n"
     ]
    },
    {
     "name": "stderr",
     "output_type": "stream",
     "text": [
      "100%|██████████| 625/625 [00:32<00:00, 19.14it/s]\n",
      "100%|██████████| 157/157 [00:08<00:00, 18.02it/s]\n"
     ]
    },
    {
     "name": "stdout",
     "output_type": "stream",
     "text": [
      "Epoch 2/10, Loss: 2.1900, Train Accuracy: 41.55%, Validation Accuracy: 42.34%\n"
     ]
    },
    {
     "name": "stderr",
     "output_type": "stream",
     "text": [
      "100%|██████████| 625/625 [00:28<00:00, 22.03it/s]\n",
      "100%|██████████| 157/157 [00:08<00:00, 18.44it/s]\n"
     ]
    },
    {
     "name": "stdout",
     "output_type": "stream",
     "text": [
      "Epoch 3/10, Loss: 1.8511, Train Accuracy: 49.28%, Validation Accuracy: 44.76%\n"
     ]
    },
    {
     "name": "stderr",
     "output_type": "stream",
     "text": [
      "100%|██████████| 625/625 [00:33<00:00, 18.83it/s]\n",
      "100%|██████████| 157/157 [00:08<00:00, 17.89it/s] \n"
     ]
    },
    {
     "name": "stdout",
     "output_type": "stream",
     "text": [
      "Epoch 4/10, Loss: 1.5845, Train Accuracy: 55.64%, Validation Accuracy: 46.94%\n"
     ]
    },
    {
     "name": "stderr",
     "output_type": "stream",
     "text": [
      "100%|██████████| 625/625 [00:27<00:00, 22.33it/s]\n",
      "100%|██████████| 157/157 [00:08<00:00, 19.17it/s]\n"
     ]
    },
    {
     "name": "stdout",
     "output_type": "stream",
     "text": [
      "Epoch 5/10, Loss: 1.3395, Train Accuracy: 61.45%, Validation Accuracy: 47.91%\n"
     ]
    },
    {
     "name": "stderr",
     "output_type": "stream",
     "text": [
      "100%|██████████| 625/625 [00:28<00:00, 22.32it/s]\n",
      "100%|██████████| 157/157 [00:08<00:00, 19.19it/s]\n"
     ]
    },
    {
     "name": "stdout",
     "output_type": "stream",
     "text": [
      "Epoch 6/10, Loss: 1.1453, Train Accuracy: 65.97%, Validation Accuracy: 48.11%\n"
     ]
    },
    {
     "name": "stderr",
     "output_type": "stream",
     "text": [
      "100%|██████████| 625/625 [00:31<00:00, 19.55it/s]\n",
      "100%|██████████| 157/157 [00:08<00:00, 17.96it/s] \n"
     ]
    },
    {
     "name": "stdout",
     "output_type": "stream",
     "text": [
      "Epoch 7/10, Loss: 0.9696, Train Accuracy: 70.89%, Validation Accuracy: 49.29%\n"
     ]
    },
    {
     "name": "stderr",
     "output_type": "stream",
     "text": [
      "100%|██████████| 625/625 [00:30<00:00, 20.28it/s]\n",
      "100%|██████████| 157/157 [00:08<00:00, 19.04it/s]\n"
     ]
    },
    {
     "name": "stdout",
     "output_type": "stream",
     "text": [
      "Epoch 8/10, Loss: 0.8315, Train Accuracy: 74.82%, Validation Accuracy: 48.77%\n"
     ]
    },
    {
     "name": "stderr",
     "output_type": "stream",
     "text": [
      "100%|██████████| 625/625 [00:33<00:00, 18.76it/s]\n",
      "100%|██████████| 157/157 [00:08<00:00, 17.94it/s] \n"
     ]
    },
    {
     "name": "stdout",
     "output_type": "stream",
     "text": [
      "Epoch 9/10, Loss: 0.6521, Train Accuracy: 79.60%, Validation Accuracy: 49.04%\n"
     ]
    },
    {
     "name": "stderr",
     "output_type": "stream",
     "text": [
      "100%|██████████| 625/625 [00:27<00:00, 22.70it/s]\n",
      "100%|██████████| 157/157 [00:08<00:00, 18.80it/s]\n"
     ]
    },
    {
     "name": "stdout",
     "output_type": "stream",
     "text": [
      "Epoch 10/10, Loss: 0.5651, Train Accuracy: 82.09%, Validation Accuracy: 48.42%\n",
      "Test Accuracy: 48.32%\n",
      "Final Test Accuracy: 48.32\n",
      "Final Validation Accuracy: 48.42\n",
      "Final Training Accuracy: 82.095\n",
      "Final Training Loss: 0.5651287638664245\n"
     ]
    }
   ],
   "source": [
    "custom_args = argparse.Namespace(arch=['64', 'M', '128'], \n",
    "                                 batch_norm=False,\n",
    "                                 bias=False,\n",
    "                                 classifier_layers=[256,256],\n",
    "                                 classifier_bias=False,\n",
    "                                 classifier_dropout=0,\n",
    "                                 avgpool=True,\n",
    "                                 avgpool_size=[1,1],  # Adjusted avgpool size to (1, 1)\n",
    "                                 dataset=\"cifar100\",\n",
    "                                 greyscale=False,\n",
    "                                 n_classes=100,\n",
    "                                 epochs=10, \n",
    "                                 batch_size=64,\n",
    "                                 optimizer=\"Adam\",\n",
    "                                 lr=0.001,\n",
    "                                 criterion=\"CrossEntropyLoss\",\n",
    "                                 seed=42\n",
    "                                 )\n",
    "# Load ResNet-18 model\n",
    "def load_resnet18(n_classes):\n",
    "    model = models.resnet18(pretrained=True)\n",
    "    # Modify the final fully connected layer to have n_classes output units\n",
    "    model.fc = nn.Linear(model.fc.in_features, n_classes)\n",
    "    return model\n",
    "\n",
    "# get dataloaders\n",
    "train_loader, val_loader, test_loader = datasets.get_dataloaders(custom_args, logfile=None, summaryfile=None, log=False)\n",
    "# build model\n",
    "model = load_resnet18(custom_args.n_classes)\n",
    "#model = build_models.build_model_from_args(custom_args)\n",
    "# train\n",
    "train_losses, train_accuracies, val_accuracies, test_accuracy = train.train(custom_args, model, train_loader, val_loader, test_loader)\n",
    "# log results\n",
    "print(f\"Final Test Accuracy: {test_accuracy}\")\n",
    "print(f\"Final Validation Accuracy: {val_accuracies[-1]}\")\n",
    "print(f\"Final Training Accuracy: {train_accuracies[-1]}\")\n",
    "print(f\"Final Training Loss: {train_losses[-1]}\")"
   ]
  },
  {
   "cell_type": "code",
   "execution_count": null,
   "metadata": {},
   "outputs": [],
   "source": []
  }
 ],
 "metadata": {
  "kernelspec": {
   "display_name": "Python 3",
   "language": "python",
   "name": "python3"
  },
  "language_info": {
   "codemirror_mode": {
    "name": "ipython",
    "version": 3
   },
   "file_extension": ".py",
   "mimetype": "text/x-python",
   "name": "python",
   "nbconvert_exporter": "python",
   "pygments_lexer": "ipython3",
   "version": "3.11.9"
  }
 },
 "nbformat": 4,
 "nbformat_minor": 2
}
