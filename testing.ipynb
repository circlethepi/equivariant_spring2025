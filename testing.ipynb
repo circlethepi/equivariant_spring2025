{
 "cells": [
  {
   "cell_type": "code",
   "execution_count": 1,
   "metadata": {},
   "outputs": [],
   "source": [
    "from src import notebook, datasets, build_models,caluclate_basis, custom_blocks, train, utils\n",
    "import torch\n",
    "import torch.nn as nn\n",
    "import torchvision.models as models\n",
    "import torch.optim as optim\n",
    "import matplotlib.pyplot as plt\n",
    "import numpy as np \n",
    "import argparse\n",
    "from tqdm import tqdm   \n",
    "from torchsummary import summary"
   ]
  },
  {
   "cell_type": "code",
   "execution_count": 2,
   "metadata": {},
   "outputs": [
    {
     "name": "stdout",
     "output_type": "stream",
     "text": [
      "Device: cuda\n"
     ]
    },
    {
     "name": "stderr",
     "output_type": "stream",
     "text": [
      "100%|██████████| 750/750 [00:23<00:00, 32.56it/s] \n",
      "100%|██████████| 188/188 [00:10<00:00, 18.72it/s]\n"
     ]
    },
    {
     "name": "stdout",
     "output_type": "stream",
     "text": [
      "Epoch 1/10, Loss: 1.2784, Train Accuracy: 46.59%, Validation Accuracy: 69.33%\n"
     ]
    },
    {
     "name": "stderr",
     "output_type": "stream",
     "text": [
      "100%|██████████| 750/750 [00:24<00:00, 30.45it/s] \n",
      "100%|██████████| 188/188 [00:08<00:00, 21.19it/s]\n"
     ]
    },
    {
     "name": "stdout",
     "output_type": "stream",
     "text": [
      "Epoch 2/10, Loss: 0.5295, Train Accuracy: 78.24%, Validation Accuracy: 79.11%\n"
     ]
    },
    {
     "name": "stderr",
     "output_type": "stream",
     "text": [
      "100%|██████████| 750/750 [00:28<00:00, 26.50it/s] \n",
      "100%|██████████| 188/188 [00:08<00:00, 22.23it/s]\n"
     ]
    },
    {
     "name": "stdout",
     "output_type": "stream",
     "text": [
      "Epoch 3/10, Loss: 0.2919, Train Accuracy: 88.00%, Validation Accuracy: 88.94%\n"
     ]
    },
    {
     "name": "stderr",
     "output_type": "stream",
     "text": [
      "100%|██████████| 750/750 [00:25<00:00, 29.32it/s] \n",
      "100%|██████████| 188/188 [00:08<00:00, 21.30it/s]\n"
     ]
    },
    {
     "name": "stdout",
     "output_type": "stream",
     "text": [
      "Epoch 4/10, Loss: 0.2475, Train Accuracy: 89.66%, Validation Accuracy: 89.37%\n"
     ]
    },
    {
     "name": "stderr",
     "output_type": "stream",
     "text": [
      "100%|██████████| 750/750 [00:26<00:00, 28.72it/s] \n",
      "100%|██████████| 188/188 [00:08<00:00, 22.55it/s]\n"
     ]
    },
    {
     "name": "stdout",
     "output_type": "stream",
     "text": [
      "Epoch 5/10, Loss: 0.2414, Train Accuracy: 89.79%, Validation Accuracy: 88.86%\n"
     ]
    },
    {
     "name": "stderr",
     "output_type": "stream",
     "text": [
      "100%|██████████| 750/750 [00:25<00:00, 29.78it/s] \n",
      "100%|██████████| 188/188 [00:08<00:00, 23.26it/s]\n"
     ]
    },
    {
     "name": "stdout",
     "output_type": "stream",
     "text": [
      "Epoch 6/10, Loss: 0.2377, Train Accuracy: 89.86%, Validation Accuracy: 89.28%\n"
     ]
    },
    {
     "name": "stderr",
     "output_type": "stream",
     "text": [
      "100%|██████████| 750/750 [00:24<00:00, 30.24it/s] \n",
      "100%|██████████| 188/188 [00:08<00:00, 23.06it/s]\n"
     ]
    },
    {
     "name": "stdout",
     "output_type": "stream",
     "text": [
      "Epoch 7/10, Loss: 0.2397, Train Accuracy: 89.81%, Validation Accuracy: 89.05%\n"
     ]
    },
    {
     "name": "stderr",
     "output_type": "stream",
     "text": [
      "100%|██████████| 750/750 [00:25<00:00, 29.81it/s] \n",
      "100%|██████████| 188/188 [00:08<00:00, 23.28it/s]\n"
     ]
    },
    {
     "name": "stdout",
     "output_type": "stream",
     "text": [
      "Epoch 8/10, Loss: 0.2363, Train Accuracy: 89.88%, Validation Accuracy: 89.28%\n"
     ]
    },
    {
     "name": "stderr",
     "output_type": "stream",
     "text": [
      "100%|██████████| 750/750 [00:24<00:00, 30.44it/s] \n",
      "100%|██████████| 188/188 [00:08<00:00, 23.20it/s]\n"
     ]
    },
    {
     "name": "stdout",
     "output_type": "stream",
     "text": [
      "Epoch 9/10, Loss: 0.2345, Train Accuracy: 89.96%, Validation Accuracy: 89.33%\n"
     ]
    },
    {
     "name": "stderr",
     "output_type": "stream",
     "text": [
      "100%|██████████| 750/750 [00:25<00:00, 29.89it/s] \n",
      "100%|██████████| 188/188 [00:07<00:00, 23.87it/s]\n"
     ]
    },
    {
     "name": "stdout",
     "output_type": "stream",
     "text": [
      "Epoch 10/10, Loss: 0.2349, Train Accuracy: 89.90%, Validation Accuracy: 88.97%\n"
     ]
    },
    {
     "name": "stderr",
     "output_type": "stream",
     "text": [
      "100%|██████████| 157/157 [00:03<00:00, 40.45it/s] "
     ]
    },
    {
     "name": "stdout",
     "output_type": "stream",
     "text": [
      "Test Accuracy: 88.91%\n",
      "Final Test Accuracy: 88.91\n",
      "Final Validation Accuracy: 88.96666666666667\n",
      "Final Training Accuracy: 89.89791666666666\n",
      "Final Training Loss: 0.2349398085012411\n"
     ]
    },
    {
     "name": "stderr",
     "output_type": "stream",
     "text": [
      "\n"
     ]
    }
   ],
   "source": [
    "custom_args = argparse.Namespace(arch=['64', 'M', '128', 'M'], \n",
    "                                 batch_norm=False,\n",
    "                                 bias=True,\n",
    "                                 classifier_layers=[256],\n",
    "                                 classifier_bias=True,\n",
    "                                 classifier_dropout=0,\n",
    "                                 avgpool=False,\n",
    "                                 avgpool_size=[1,1],  # Adjusted avgpool size to (1, 1)\n",
    "                                 dataset=\"mnist\",\n",
    "                                 input_height = 28,\n",
    "                                 input_width = 28,\n",
    "                                 greyscale=True,\n",
    "                                 n_classes= 10,\n",
    "                                 epochs=10, \n",
    "                                 batch_size=64,\n",
    "                                 optimizer=\"Adam\",\n",
    "                                 weight_normalization=False,\n",
    "                                 lr=0.001,\n",
    "                                 criterion=\"CrossEntropyLoss\",\n",
    "                                 seed=42,\n",
    "                                 save_checkpoints=False,\n",
    "                                 save_dir = \"\",\n",
    "                                 checkpoint_type = \"epoch\",\n",
    "                                 )\n",
    "# Load ResNet-18 model\n",
    "def load_resnet18(n_classes):\n",
    "    model = models.resnet18(pretrained=True)\n",
    "    # Modify the final fully connected layer to have n_classes output units\n",
    "    model.fc = nn.Linear(model.fc.in_features, n_classes)\n",
    "    return model\n",
    "\n",
    "# get dataloaders\n",
    "train_loader, val_loader, test_loader = datasets.get_dataloaders(custom_args, logfile=None, summaryfile=None, log=False)\n",
    "# build model\n",
    "#model = load_resnet18(custom_args.n_classes)\n",
    "#model = model.to(torch.device('cuda' if torch.cuda.is_available() else 'cpu'))\n",
    "model = build_models.build_model_from_args(custom_args)\n",
    "# train\n",
    "train_losses, train_accuracies, val_accuracies, test_accuracy = train.train(custom_args, model, train_loader, val_loader, test_loader)\n",
    "#train.test_model(model, test_loader,device= torch.device('cuda' if torch.cuda.is_available() else 'cpu'))\n",
    "# log results\n",
    "print(f\"Final Test Accuracy: {test_accuracy}\")\n",
    "print(f\"Final Validation Accuracy: {val_accuracies[-1]}\")\n",
    "print(f\"Final Training Accuracy: {train_accuracies[-1]}\")\n",
    "print(f\"Final Training Loss: {train_losses[-1]}\")"
   ]
  }
 ],
 "metadata": {
  "kernelspec": {
   "display_name": "Python 3",
   "language": "python",
   "name": "python3"
  },
  "language_info": {
   "codemirror_mode": {
    "name": "ipython",
    "version": 3
   },
   "file_extension": ".py",
   "mimetype": "text/x-python",
   "name": "python",
   "nbconvert_exporter": "python",
   "pygments_lexer": "ipython3",
   "version": "3.11.9"
  }
 },
 "nbformat": 4,
 "nbformat_minor": 2
}
