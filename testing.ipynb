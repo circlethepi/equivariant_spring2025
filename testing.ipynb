{
 "cells": [
  {
   "cell_type": "code",
   "execution_count": 1,
   "metadata": {},
   "outputs": [],
   "source": [
    "from src import notebook, datasets, build_models,caluclate_basis, custom_blocks, train, utils\n",
    "import torch\n",
    "import torch.nn as nn\n",
    "import torchvision.models as models\n",
    "import torch.optim as optim\n",
    "import matplotlib.pyplot as plt\n",
    "import numpy as np \n",
    "import argparse\n",
    "from tqdm import tqdm   \n",
    "from torchsummary import summary"
   ]
  },
  {
   "cell_type": "code",
   "execution_count": 2,
   "metadata": {},
   "outputs": [
    {
     "name": "stderr",
     "output_type": "stream",
     "text": [
      "C:\\Users\\adamy\\AppData\\Local\\Packages\\PythonSoftwareFoundation.Python.3.11_qbz5n2kfra8p0\\LocalCache\\local-packages\\Python311\\site-packages\\torchvision\\models\\_utils.py:208: UserWarning: The parameter 'pretrained' is deprecated since 0.13 and may be removed in the future, please use 'weights' instead.\n",
      "  warnings.warn(\n",
      "C:\\Users\\adamy\\AppData\\Local\\Packages\\PythonSoftwareFoundation.Python.3.11_qbz5n2kfra8p0\\LocalCache\\local-packages\\Python311\\site-packages\\torchvision\\models\\_utils.py:223: UserWarning: Arguments other than a weight enum or `None` for 'weights' are deprecated since 0.13 and may be removed in the future. The current behavior is equivalent to passing `weights=ResNet18_Weights.IMAGENET1K_V1`. You can also use `weights=ResNet18_Weights.DEFAULT` to get the most up-to-date weights.\n",
      "  warnings.warn(msg)\n"
     ]
    },
    {
     "name": "stdout",
     "output_type": "stream",
     "text": [
      "Device: cuda\n"
     ]
    },
    {
     "name": "stderr",
     "output_type": "stream",
     "text": [
      "  0%|          | 1/750 [00:21<4:28:54, 21.54s/it]"
     ]
    },
    {
     "name": "stdout",
     "output_type": "stream",
     "text": [
      "Saved checkpoint at batch 1\n"
     ]
    },
    {
     "name": "stderr",
     "output_type": "stream",
     "text": [
      "  0%|          | 2/750 [00:21<1:52:10,  9.00s/it]"
     ]
    },
    {
     "name": "stdout",
     "output_type": "stream",
     "text": [
      "Saved checkpoint at batch 2\n",
      "Saved checkpoint at batch 4\n"
     ]
    },
    {
     "name": "stderr",
     "output_type": "stream",
     "text": [
      "  1%|          | 8/750 [00:22<15:30,  1.25s/it]  "
     ]
    },
    {
     "name": "stdout",
     "output_type": "stream",
     "text": [
      "Saved checkpoint at batch 8\n"
     ]
    },
    {
     "name": "stderr",
     "output_type": "stream",
     "text": [
      "  3%|▎         | 24/750 [00:22<02:58,  4.06it/s]"
     ]
    },
    {
     "name": "stdout",
     "output_type": "stream",
     "text": [
      "Saved checkpoint at batch 16\n"
     ]
    },
    {
     "name": "stderr",
     "output_type": "stream",
     "text": [
      "  5%|▌         | 40/750 [00:22<01:14,  9.57it/s]"
     ]
    },
    {
     "name": "stdout",
     "output_type": "stream",
     "text": [
      "Saved checkpoint at batch 32\n"
     ]
    },
    {
     "name": "stderr",
     "output_type": "stream",
     "text": [
      "  9%|▉         | 71/750 [00:23<00:24, 27.24it/s]"
     ]
    },
    {
     "name": "stdout",
     "output_type": "stream",
     "text": [
      "Saved checkpoint at batch 64\n"
     ]
    },
    {
     "name": "stderr",
     "output_type": "stream",
     "text": [
      " 18%|█▊        | 135/750 [00:24<00:11, 54.27it/s]"
     ]
    },
    {
     "name": "stdout",
     "output_type": "stream",
     "text": [
      "Saved checkpoint at batch 128\n"
     ]
    },
    {
     "name": "stderr",
     "output_type": "stream",
     "text": [
      " 36%|███▌      | 269/750 [00:26<00:07, 64.78it/s]"
     ]
    },
    {
     "name": "stdout",
     "output_type": "stream",
     "text": [
      "Saved checkpoint at batch 256\n"
     ]
    },
    {
     "name": "stderr",
     "output_type": "stream",
     "text": [
      " 70%|███████   | 527/750 [00:29<00:03, 65.13it/s]"
     ]
    },
    {
     "name": "stdout",
     "output_type": "stream",
     "text": [
      "Saved checkpoint at batch 512\n"
     ]
    },
    {
     "name": "stderr",
     "output_type": "stream",
     "text": [
      "100%|██████████| 750/750 [00:33<00:00, 22.62it/s]\n",
      "100%|██████████| 188/188 [00:13<00:00, 13.93it/s] \n"
     ]
    },
    {
     "name": "stdout",
     "output_type": "stream",
     "text": [
      "Epoch 1/10, Loss: 0.1403, Train Accuracy: 96.23%, Validation Accuracy: 94.92%\n"
     ]
    },
    {
     "name": "stderr",
     "output_type": "stream",
     "text": [
      " 37%|███▋      | 281/750 [00:40<00:10, 43.02it/s]"
     ]
    },
    {
     "name": "stdout",
     "output_type": "stream",
     "text": [
      "Saved checkpoint at batch 1024\n"
     ]
    },
    {
     "name": "stderr",
     "output_type": "stream",
     "text": [
      "100%|██████████| 750/750 [00:49<00:00, 15.20it/s]\n",
      "100%|██████████| 188/188 [00:09<00:00, 19.54it/s] \n"
     ]
    },
    {
     "name": "stdout",
     "output_type": "stream",
     "text": [
      "Epoch 2/10, Loss: 0.0620, Train Accuracy: 98.33%, Validation Accuracy: 98.56%\n"
     ]
    },
    {
     "name": "stderr",
     "output_type": "stream",
     "text": [
      " 73%|███████▎  | 548/750 [02:32<01:43,  1.94it/s]"
     ]
    },
    {
     "name": "stdout",
     "output_type": "stream",
     "text": [
      "Saved checkpoint at batch 2048\n"
     ]
    },
    {
     "name": "stderr",
     "output_type": "stream",
     "text": [
      "100%|██████████| 750/750 [03:14<00:00,  3.85it/s]\n",
      "100%|██████████| 188/188 [00:16<00:00, 11.59it/s]\n"
     ]
    },
    {
     "name": "stdout",
     "output_type": "stream",
     "text": [
      "Epoch 3/10, Loss: 0.0470, Train Accuracy: 98.74%, Validation Accuracy: 99.14%\n"
     ]
    },
    {
     "name": "stderr",
     "output_type": "stream",
     "text": [
      "100%|██████████| 750/750 [02:55<00:00,  4.28it/s]\n",
      "100%|██████████| 188/188 [00:15<00:00, 12.23it/s]\n"
     ]
    },
    {
     "name": "stdout",
     "output_type": "stream",
     "text": [
      "Epoch 4/10, Loss: 0.0418, Train Accuracy: 98.88%, Validation Accuracy: 97.30%\n"
     ]
    },
    {
     "name": "stderr",
     "output_type": "stream",
     "text": [
      "100%|██████████| 750/750 [00:47<00:00, 15.90it/s]\n",
      "100%|██████████| 188/188 [00:09<00:00, 19.86it/s] \n"
     ]
    },
    {
     "name": "stdout",
     "output_type": "stream",
     "text": [
      "Epoch 5/10, Loss: 0.0377, Train Accuracy: 98.96%, Validation Accuracy: 98.97%\n"
     ]
    },
    {
     "name": "stderr",
     "output_type": "stream",
     "text": [
      " 47%|████▋     | 352/750 [00:53<00:07, 53.50it/s] "
     ]
    },
    {
     "name": "stdout",
     "output_type": "stream",
     "text": [
      "Saved checkpoint at batch 4096\n"
     ]
    },
    {
     "name": "stderr",
     "output_type": "stream",
     "text": [
      "100%|██████████| 750/750 [01:00<00:00, 12.38it/s]\n",
      "100%|██████████| 188/188 [00:09<00:00, 19.97it/s]\n"
     ]
    },
    {
     "name": "stdout",
     "output_type": "stream",
     "text": [
      "Epoch 6/10, Loss: 0.0313, Train Accuracy: 99.20%, Validation Accuracy: 98.84%\n"
     ]
    },
    {
     "name": "stderr",
     "output_type": "stream",
     "text": [
      "100%|██████████| 750/750 [01:02<00:00, 12.04it/s] \n",
      "100%|██████████| 188/188 [00:10<00:00, 18.54it/s] \n"
     ]
    },
    {
     "name": "stdout",
     "output_type": "stream",
     "text": [
      "Epoch 7/10, Loss: 0.0268, Train Accuracy: 99.22%, Validation Accuracy: 99.21%\n"
     ]
    },
    {
     "name": "stderr",
     "output_type": "stream",
     "text": [
      "100%|██████████| 750/750 [00:57<00:00, 13.00it/s]\n",
      "100%|██████████| 188/188 [00:09<00:00, 19.33it/s]\n"
     ]
    },
    {
     "name": "stdout",
     "output_type": "stream",
     "text": [
      "Epoch 8/10, Loss: 0.0252, Train Accuracy: 99.28%, Validation Accuracy: 98.76%\n"
     ]
    },
    {
     "name": "stderr",
     "output_type": "stream",
     "text": [
      "100%|██████████| 750/750 [01:00<00:00, 12.36it/s]\n",
      "100%|██████████| 188/188 [00:09<00:00, 19.83it/s]\n"
     ]
    },
    {
     "name": "stdout",
     "output_type": "stream",
     "text": [
      "Epoch 9/10, Loss: 0.0235, Train Accuracy: 99.39%, Validation Accuracy: 99.08%\n"
     ]
    },
    {
     "name": "stderr",
     "output_type": "stream",
     "text": [
      "100%|██████████| 750/750 [00:52<00:00, 14.17it/s]\n",
      "100%|██████████| 188/188 [00:08<00:00, 22.09it/s] \n"
     ]
    },
    {
     "name": "stdout",
     "output_type": "stream",
     "text": [
      "Epoch 10/10, Loss: 0.0187, Train Accuracy: 99.48%, Validation Accuracy: 99.22%\n"
     ]
    },
    {
     "name": "stderr",
     "output_type": "stream",
     "text": [
      "100%|██████████| 157/157 [00:04<00:00, 38.60it/s] "
     ]
    },
    {
     "name": "stdout",
     "output_type": "stream",
     "text": [
      "Test Accuracy: 99.38%\n",
      "Final Test Accuracy: 99.38\n",
      "Final Validation Accuracy: 99.21666666666667\n",
      "Final Training Accuracy: 99.48125\n",
      "Final Training Loss: 0.018705420044153775\n"
     ]
    },
    {
     "name": "stderr",
     "output_type": "stream",
     "text": [
      "\n"
     ]
    }
   ],
   "source": [
    "custom_args = argparse.Namespace(arch=['64', 'M', '128'], \n",
    "                                 batch_norm=False,\n",
    "                                 bias=False,\n",
    "                                 classifier_layers=[256,256],\n",
    "                                 classifier_bias=False,\n",
    "                                 classifier_dropout=0,\n",
    "                                 avgpool=True,\n",
    "                                 avgpool_size=[1,1],  # Adjusted avgpool size to (1, 1)\n",
    "                                 dataset=\"mnist\",\n",
    "                                 greyscale=False,\n",
    "                                 n_classes=10,\n",
    "                                 epochs=10, \n",
    "                                 batch_size=64,\n",
    "                                 optimizer=\"Adam\",\n",
    "                                 lr=0.001,\n",
    "                                 criterion=\"CrossEntropyLoss\",\n",
    "                                 seed=42,\n",
    "                                 save_checkpoints=True,\n",
    "                                 save_dir = \"\",\n",
    "                                 checkpoint_type = \"batch\",\n",
    "                                 )\n",
    "# Load ResNet-18 model\n",
    "def load_resnet18(n_classes):\n",
    "    model = models.resnet18(pretrained=True)\n",
    "    # Modify the final fully connected layer to have n_classes output units\n",
    "    model.fc = nn.Linear(model.fc.in_features, n_classes)\n",
    "    return model\n",
    "\n",
    "# get dataloaders\n",
    "train_loader, val_loader, test_loader = datasets.get_dataloaders(custom_args, logfile=None, summaryfile=None, log=False)\n",
    "# build model\n",
    "model = load_resnet18(custom_args.n_classes)\n",
    "#model = model.to(torch.device('cuda' if torch.cuda.is_available() else 'cpu'))\n",
    "#model = build_models.build_model_from_args(custom_args)\n",
    "# train\n",
    "train_losses, train_accuracies, val_accuracies, test_accuracy = train.train(custom_args, model, train_loader, val_loader, test_loader)\n",
    "#train.test_model(model, test_loader,device= torch.device('cuda' if torch.cuda.is_available() else 'cpu'))\n",
    "# log results\n",
    "print(f\"Final Test Accuracy: {test_accuracy}\")\n",
    "print(f\"Final Validation Accuracy: {val_accuracies[-1]}\")\n",
    "print(f\"Final Training Accuracy: {train_accuracies[-1]}\")\n",
    "print(f\"Final Training Loss: {train_losses[-1]}\")"
   ]
  },
  {
   "cell_type": "code",
   "execution_count": null,
   "metadata": {},
   "outputs": [],
   "source": []
  }
 ],
 "metadata": {
  "kernelspec": {
   "display_name": "Python 3",
   "language": "python",
   "name": "python3"
  },
  "language_info": {
   "codemirror_mode": {
    "name": "ipython",
    "version": 3
   },
   "file_extension": ".py",
   "mimetype": "text/x-python",
   "name": "python",
   "nbconvert_exporter": "python",
   "pygments_lexer": "ipython3",
   "version": "3.11.9"
  }
 },
 "nbformat": 4,
 "nbformat_minor": 2
}
