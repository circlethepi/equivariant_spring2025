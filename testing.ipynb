{
 "cells": [
  {
   "cell_type": "code",
   "execution_count": 1,
   "metadata": {},
   "outputs": [],
   "source": [
    "from src import notebook, datasets, build_models,caluclate_basis, custom_blocks, train, utils\n",
    "import torch\n",
    "import torch.nn as nn\n",
    "import torchvision.models as models\n",
    "import torch.optim as optim\n",
    "import matplotlib.pyplot as plt\n",
    "import numpy as np \n",
    "import argparse\n",
    "import wandb\n",
    "from tqdm import tqdm   \n",
    "from torchsummary import summary"
   ]
  },
  {
   "cell_type": "code",
   "execution_count": 2,
   "metadata": {},
   "outputs": [],
   "source": [
    "def make(config):\n",
    "\n",
    "    train_loader, val_loader, test_loader = datasets.get_dataloaders(config, logfile=None, summaryfile=None, log=False) \n",
    "\n",
    "    model = build_models.build_model_from_args(config)\n",
    "\n",
    "    if config.criterion == \"CrossEntropyLoss\":\n",
    "        criterion = nn.CrossEntropyLoss()\n",
    "    elif config.criterion == \"MSELoss\":\n",
    "        criterion = nn.MSELoss()\n",
    "    else:\n",
    "        raise ValueError(f\"Criterion {criterion} not supported\")\n",
    "    \n",
    "    if config.optimizer == \"Adam\":\n",
    "        optimizer = optim.Adam(model.parameters(), lr=config.lr)\n",
    "    elif config.optimizer == \"SGD\":\n",
    "        optimizer = optim.SGD(model.parameters(), lr=config.lr)\n",
    "    else:\n",
    "        raise ValueError(f\"Optimizer {optimizer} not supported\")\n",
    "    \n",
    "    return model, train_loader, val_loader, test_loader, criterion, optimizer"
   ]
  },
  {
   "cell_type": "code",
   "execution_count": 3,
   "metadata": {},
   "outputs": [],
   "source": [
    "hyperparameters = dict(arch=['64', 'M', '128', 'M'], \n",
    "                                 batch_norm=False,\n",
    "                                 bias=True,\n",
    "                                 classifier_layers=[256],\n",
    "                                 classifier_bias= True,\n",
    "                                 classifier_dropout=0,\n",
    "                                 avgpool=False,\n",
    "                                 avgpool_size=[1,1],  # Adjusted avgpool size to (1, 1)\n",
    "                                 dataset=\"rotated_mnist\",\n",
    "                                 input_height = 29,\n",
    "                                 input_width = 29,\n",
    "                                 greyscale=True,\n",
    "                                 n_classes= 10,\n",
    "                                 epochs=10, \n",
    "                                 batch_size=64,\n",
    "                                 optimizer=\"Adam\",\n",
    "                                 weight_normalization=True,\n",
    "                                 lr=0.001,\n",
    "                                 criterion=\"CrossEntropyLoss\",\n",
    "                                 seed=42,\n",
    "                                 save_checkpoints=False,\n",
    "                                 save_dir = \"\",\n",
    "                                 checkpoint_type = \"epoch\",\n",
    "                                 )"
   ]
  },
  {
   "cell_type": "code",
   "execution_count": 4,
   "metadata": {},
   "outputs": [
    {
     "name": "stderr",
     "output_type": "stream",
     "text": [
      "\u001b[34m\u001b[1mwandb\u001b[0m: Currently logged in as: \u001b[33matsou2\u001b[0m (\u001b[33matsou2-johns-hopkins-university\u001b[0m) to \u001b[32mhttps://api.wandb.ai\u001b[0m. Use \u001b[1m`wandb login --relogin`\u001b[0m to force relogin\n",
      "\u001b[34m\u001b[1mwandb\u001b[0m: Using wandb-core as the SDK backend.  Please refer to https://wandb.me/wandb-core for more information.\n"
     ]
    },
    {
     "data": {
      "text/html": [
       "Tracking run with wandb version 0.19.6"
      ],
      "text/plain": [
       "<IPython.core.display.HTML object>"
      ]
     },
     "metadata": {},
     "output_type": "display_data"
    },
    {
     "data": {
      "text/html": [
       "Run data is saved locally in <code>c:\\Users\\adamy\\equivariant_spring2025\\wandb\\run-20250215_142628-aiy3jix3</code>"
      ],
      "text/plain": [
       "<IPython.core.display.HTML object>"
      ]
     },
     "metadata": {},
     "output_type": "display_data"
    },
    {
     "data": {
      "text/html": [
       "Syncing run <strong><a href='https://wandb.ai/atsou2-johns-hopkins-university/custom-vgg-model/runs/aiy3jix3' target=\"_blank\">tender-caress-26</a></strong> to <a href='https://wandb.ai/atsou2-johns-hopkins-university/custom-vgg-model' target=\"_blank\">Weights & Biases</a> (<a href='https://wandb.me/developer-guide' target=\"_blank\">docs</a>)<br>"
      ],
      "text/plain": [
       "<IPython.core.display.HTML object>"
      ]
     },
     "metadata": {},
     "output_type": "display_data"
    },
    {
     "data": {
      "text/html": [
       " View project at <a href='https://wandb.ai/atsou2-johns-hopkins-university/custom-vgg-model' target=\"_blank\">https://wandb.ai/atsou2-johns-hopkins-university/custom-vgg-model</a>"
      ],
      "text/plain": [
       "<IPython.core.display.HTML object>"
      ]
     },
     "metadata": {},
     "output_type": "display_data"
    },
    {
     "data": {
      "text/html": [
       " View run at <a href='https://wandb.ai/atsou2-johns-hopkins-university/custom-vgg-model/runs/aiy3jix3' target=\"_blank\">https://wandb.ai/atsou2-johns-hopkins-university/custom-vgg-model/runs/aiy3jix3</a>"
      ],
      "text/plain": [
       "<IPython.core.display.HTML object>"
      ]
     },
     "metadata": {},
     "output_type": "display_data"
    },
    {
     "name": "stdout",
     "output_type": "stream",
     "text": [
      "CustomModel(\n",
      "  (features): Sequential(\n",
      "    (0): ParametrizedConv2d(\n",
      "      1, 64, kernel_size=(3, 3), stride=(1, 1), padding=(1, 1)\n",
      "      (parametrizations): ModuleDict(\n",
      "        (weight): ParametrizationList(\n",
      "          (0): _WeightNorm()\n",
      "        )\n",
      "      )\n",
      "    )\n",
      "    (1): ReLU(inplace=True)\n",
      "    (2): MaxPool2d(kernel_size=2, stride=2, padding=0, dilation=1, ceil_mode=False)\n",
      "    (3): ParametrizedConv2d(\n",
      "      64, 128, kernel_size=(3, 3), stride=(1, 1), padding=(1, 1)\n",
      "      (parametrizations): ModuleDict(\n",
      "        (weight): ParametrizationList(\n",
      "          (0): _WeightNorm()\n",
      "        )\n",
      "      )\n",
      "    )\n",
      "    (4): ReLU(inplace=True)\n",
      "    (5): MaxPool2d(kernel_size=2, stride=2, padding=0, dilation=1, ceil_mode=False)\n",
      "  )\n",
      "  (classifier): CustomClassifier(\n",
      "    (classifier_layers): Sequential(\n",
      "      (0): Sequential(\n",
      "        (0): Linear(in_features=6272, out_features=256, bias=True)\n",
      "        (1): ReLU(inplace=True)\n",
      "      )\n",
      "      (1): Sequential(\n",
      "        (0): Linear(in_features=256, out_features=10, bias=True)\n",
      "        (1): ReLU(inplace=True)\n",
      "      )\n",
      "    )\n",
      "  )\n",
      ")\n",
      "CrossEntropyLoss() Adam (\n",
      "Parameter Group 0\n",
      "    amsgrad: False\n",
      "    betas: (0.9, 0.999)\n",
      "    capturable: False\n",
      "    differentiable: False\n",
      "    eps: 1e-08\n",
      "    foreach: None\n",
      "    fused: None\n",
      "    lr: 0.001\n",
      "    maximize: False\n",
      "    weight_decay: 0\n",
      ")\n",
      "Device: cuda\n"
     ]
    },
    {
     "name": "stderr",
     "output_type": "stream",
     "text": [
      "  0%|          | 0/10 [00:00<?, ?it/s]"
     ]
    },
    {
     "name": "stdout",
     "output_type": "stream",
     "text": [
      "Epoch 0, Examples seen: 640, Loss: 2.2819\n",
      "Epoch 0, Examples seen: 1280, Loss: 2.0325\n",
      "Epoch 0, Examples seen: 1920, Loss: 1.9982\n",
      "Epoch 0, Examples seen: 2560, Loss: 1.9805\n",
      "Epoch 0, Examples seen: 3200, Loss: 1.9376\n",
      "Epoch 0, Examples seen: 3840, Loss: 1.9006\n",
      "Epoch 0, Examples seen: 4480, Loss: 1.9878\n",
      "Epoch 0, Examples seen: 5120, Loss: 2.0487\n",
      "Epoch 0, Examples seen: 5760, Loss: 1.8045\n",
      "Epoch 0, Examples seen: 6400, Loss: 1.8485\n",
      "Epoch 0, Examples seen: 7040, Loss: 1.8977\n",
      "Epoch 0, Examples seen: 7680, Loss: 1.8851\n",
      "Epoch 0, Examples seen: 8320, Loss: 1.6762\n",
      "Epoch 0, Examples seen: 8960, Loss: 1.8654\n",
      "Epoch 0, Examples seen: 9600, Loss: 1.6141\n"
     ]
    },
    {
     "name": "stderr",
     "output_type": "stream",
     "text": [
      " 10%|█         | 1/10 [00:16<02:28, 16.51s/it]"
     ]
    },
    {
     "name": "stdout",
     "output_type": "stream",
     "text": [
      "Epoch 1/10, Loss: 1.9203, Train Accuracy: 28.99%, Validation Accuracy: 32.25%\n",
      "Epoch 1, Examples seen: 10240, Loss: 1.7282\n",
      "Epoch 1, Examples seen: 10880, Loss: 1.8254\n",
      "Epoch 1, Examples seen: 11520, Loss: 1.6890\n",
      "Epoch 1, Examples seen: 12160, Loss: 1.6825\n",
      "Epoch 1, Examples seen: 12800, Loss: 1.9013\n",
      "Epoch 1, Examples seen: 13440, Loss: 1.3417\n",
      "Epoch 1, Examples seen: 14080, Loss: 1.7777\n",
      "Epoch 1, Examples seen: 14720, Loss: 1.8216\n",
      "Epoch 1, Examples seen: 15360, Loss: 1.6904\n",
      "Epoch 1, Examples seen: 16000, Loss: 1.6905\n",
      "Epoch 1, Examples seen: 16640, Loss: 1.8016\n",
      "Epoch 1, Examples seen: 17280, Loss: 1.8691\n",
      "Epoch 1, Examples seen: 17920, Loss: 1.7247\n",
      "Epoch 1, Examples seen: 18560, Loss: 1.4720\n",
      "Epoch 1, Examples seen: 19200, Loss: 1.5967\n"
     ]
    },
    {
     "name": "stderr",
     "output_type": "stream",
     "text": [
      " 20%|██        | 2/10 [00:32<02:10, 16.29s/it]"
     ]
    },
    {
     "name": "stdout",
     "output_type": "stream",
     "text": [
      "Epoch 2/10, Loss: 1.7265, Train Accuracy: 32.78%, Validation Accuracy: 33.12%\n",
      "Epoch 2, Examples seen: 19840, Loss: 1.6587\n",
      "Epoch 2, Examples seen: 20480, Loss: 1.5990\n",
      "Epoch 2, Examples seen: 21120, Loss: 1.6376\n",
      "Epoch 2, Examples seen: 21760, Loss: 1.7381\n",
      "Epoch 2, Examples seen: 22400, Loss: 1.7148\n",
      "Epoch 2, Examples seen: 23040, Loss: 1.5847\n",
      "Epoch 2, Examples seen: 23680, Loss: 1.4626\n",
      "Epoch 2, Examples seen: 24320, Loss: 1.6482\n",
      "Epoch 2, Examples seen: 24960, Loss: 1.4849\n",
      "Epoch 2, Examples seen: 25600, Loss: 1.6813\n",
      "Epoch 2, Examples seen: 26240, Loss: 1.6211\n",
      "Epoch 2, Examples seen: 26880, Loss: 1.5609\n",
      "Epoch 2, Examples seen: 27520, Loss: 1.7388\n",
      "Epoch 2, Examples seen: 28160, Loss: 1.6993\n",
      "Epoch 2, Examples seen: 28800, Loss: 1.6745\n"
     ]
    },
    {
     "name": "stderr",
     "output_type": "stream",
     "text": [
      " 30%|███       | 3/10 [00:48<01:52, 16.07s/it]"
     ]
    },
    {
     "name": "stdout",
     "output_type": "stream",
     "text": [
      "Epoch 3/10, Loss: 1.6513, Train Accuracy: 34.66%, Validation Accuracy: 34.75%\n",
      "Epoch 3, Examples seen: 29440, Loss: 1.3524\n",
      "Epoch 3, Examples seen: 30080, Loss: 1.4927\n",
      "Epoch 3, Examples seen: 30720, Loss: 1.8324\n",
      "Epoch 3, Examples seen: 31360, Loss: 1.6671\n",
      "Epoch 3, Examples seen: 32000, Loss: 1.5008\n",
      "Epoch 3, Examples seen: 32640, Loss: 1.5915\n",
      "Epoch 3, Examples seen: 33280, Loss: 1.3782\n",
      "Epoch 3, Examples seen: 33920, Loss: 1.5282\n",
      "Epoch 3, Examples seen: 34560, Loss: 1.4509\n",
      "Epoch 3, Examples seen: 35200, Loss: 1.7533\n",
      "Epoch 3, Examples seen: 35840, Loss: 1.5451\n",
      "Epoch 3, Examples seen: 36480, Loss: 1.5805\n",
      "Epoch 3, Examples seen: 37120, Loss: 1.8190\n",
      "Epoch 3, Examples seen: 37760, Loss: 1.6256\n",
      "Epoch 3, Examples seen: 38400, Loss: 1.5221\n"
     ]
    },
    {
     "name": "stderr",
     "output_type": "stream",
     "text": [
      " 40%|████      | 4/10 [01:04<01:36, 16.06s/it]"
     ]
    },
    {
     "name": "stdout",
     "output_type": "stream",
     "text": [
      "Epoch 4/10, Loss: 1.5820, Train Accuracy: 36.67%, Validation Accuracy: 35.71%\n",
      "Epoch 4, Examples seen: 39040, Loss: 1.6879\n",
      "Epoch 4, Examples seen: 39680, Loss: 1.5643\n",
      "Epoch 4, Examples seen: 40320, Loss: 1.7038\n",
      "Epoch 4, Examples seen: 40960, Loss: 1.4949\n",
      "Epoch 4, Examples seen: 41600, Loss: 1.5970\n",
      "Epoch 4, Examples seen: 42240, Loss: 1.6115\n",
      "Epoch 4, Examples seen: 42880, Loss: 1.6682\n",
      "Epoch 4, Examples seen: 43520, Loss: 1.5450\n",
      "Epoch 4, Examples seen: 44160, Loss: 1.4549\n",
      "Epoch 4, Examples seen: 44800, Loss: 1.7519\n",
      "Epoch 4, Examples seen: 45440, Loss: 1.5007\n",
      "Epoch 4, Examples seen: 46080, Loss: 1.3307\n",
      "Epoch 4, Examples seen: 46720, Loss: 1.6762\n",
      "Epoch 4, Examples seen: 47360, Loss: 1.6269\n",
      "Epoch 4, Examples seen: 48000, Loss: 1.3676\n"
     ]
    },
    {
     "name": "stderr",
     "output_type": "stream",
     "text": [
      " 50%|█████     | 5/10 [01:20<01:20, 16.06s/it]"
     ]
    },
    {
     "name": "stdout",
     "output_type": "stream",
     "text": [
      "Epoch 5/10, Loss: 1.5269, Train Accuracy: 37.74%, Validation Accuracy: 36.29%\n",
      "Epoch 5, Examples seen: 48640, Loss: 1.3821\n",
      "Epoch 5, Examples seen: 49280, Loss: 1.5992\n",
      "Epoch 5, Examples seen: 49920, Loss: 1.5184\n",
      "Epoch 5, Examples seen: 50560, Loss: 1.5809\n",
      "Epoch 5, Examples seen: 51200, Loss: 1.5038\n",
      "Epoch 5, Examples seen: 51840, Loss: 1.4022\n",
      "Epoch 5, Examples seen: 52480, Loss: 1.4738\n",
      "Epoch 5, Examples seen: 53120, Loss: 1.6346\n",
      "Epoch 5, Examples seen: 53760, Loss: 1.5317\n",
      "Epoch 5, Examples seen: 54400, Loss: 1.5652\n",
      "Epoch 5, Examples seen: 55040, Loss: 1.6795\n",
      "Epoch 5, Examples seen: 55680, Loss: 1.5376\n",
      "Epoch 5, Examples seen: 56320, Loss: 1.4712\n",
      "Epoch 5, Examples seen: 56960, Loss: 1.3548\n",
      "Epoch 5, Examples seen: 57600, Loss: 1.7718\n"
     ]
    },
    {
     "name": "stderr",
     "output_type": "stream",
     "text": [
      " 60%|██████    | 6/10 [01:36<01:04, 16.01s/it]"
     ]
    },
    {
     "name": "stdout",
     "output_type": "stream",
     "text": [
      "Epoch 6/10, Loss: 1.4942, Train Accuracy: 38.48%, Validation Accuracy: 36.96%\n",
      "Epoch 6, Examples seen: 58240, Loss: 1.5414\n",
      "Epoch 6, Examples seen: 58880, Loss: 1.7402\n",
      "Epoch 6, Examples seen: 59520, Loss: 1.3523\n",
      "Epoch 6, Examples seen: 60160, Loss: 1.6668\n",
      "Epoch 6, Examples seen: 60800, Loss: 1.3960\n",
      "Epoch 6, Examples seen: 61440, Loss: 1.6103\n",
      "Epoch 6, Examples seen: 62080, Loss: 1.3086\n",
      "Epoch 6, Examples seen: 62720, Loss: 1.5566\n",
      "Epoch 6, Examples seen: 63360, Loss: 1.5693\n",
      "Epoch 6, Examples seen: 64000, Loss: 1.4369\n",
      "Epoch 6, Examples seen: 64640, Loss: 1.3000\n",
      "Epoch 6, Examples seen: 65280, Loss: 1.0326\n",
      "Epoch 6, Examples seen: 65920, Loss: 1.3585\n",
      "Epoch 6, Examples seen: 66560, Loss: 1.7844\n",
      "Epoch 6, Examples seen: 67200, Loss: 1.4884\n"
     ]
    },
    {
     "name": "stderr",
     "output_type": "stream",
     "text": [
      " 70%|███████   | 7/10 [01:52<00:47, 15.96s/it]"
     ]
    },
    {
     "name": "stdout",
     "output_type": "stream",
     "text": [
      "Epoch 7/10, Loss: 1.4700, Train Accuracy: 38.92%, Validation Accuracy: 37.08%\n",
      "Epoch 7, Examples seen: 67840, Loss: 1.2636\n",
      "Epoch 7, Examples seen: 68480, Loss: 1.4985\n",
      "Epoch 7, Examples seen: 69120, Loss: 1.3377\n",
      "Epoch 7, Examples seen: 69760, Loss: 1.4831\n",
      "Epoch 7, Examples seen: 70400, Loss: 1.6057\n",
      "Epoch 7, Examples seen: 71040, Loss: 1.5677\n",
      "Epoch 7, Examples seen: 71680, Loss: 1.5523\n",
      "Epoch 7, Examples seen: 72320, Loss: 1.3867\n",
      "Epoch 7, Examples seen: 72960, Loss: 1.5686\n",
      "Epoch 7, Examples seen: 73600, Loss: 1.4630\n",
      "Epoch 7, Examples seen: 74240, Loss: 1.3949\n",
      "Epoch 7, Examples seen: 74880, Loss: 1.5622\n",
      "Epoch 7, Examples seen: 75520, Loss: 1.3861\n",
      "Epoch 7, Examples seen: 76160, Loss: 1.6689\n",
      "Epoch 7, Examples seen: 76800, Loss: 1.3509\n"
     ]
    },
    {
     "name": "stderr",
     "output_type": "stream",
     "text": [
      " 80%|████████  | 8/10 [02:08<00:31, 15.96s/it]"
     ]
    },
    {
     "name": "stdout",
     "output_type": "stream",
     "text": [
      "Epoch 8/10, Loss: 1.4564, Train Accuracy: 39.12%, Validation Accuracy: 37.00%\n",
      "Epoch 8, Examples seen: 77440, Loss: 1.4969\n",
      "Epoch 8, Examples seen: 78080, Loss: 1.6493\n",
      "Epoch 8, Examples seen: 78720, Loss: 1.3793\n",
      "Epoch 8, Examples seen: 79360, Loss: 1.3786\n",
      "Epoch 8, Examples seen: 80000, Loss: 1.5033\n",
      "Epoch 8, Examples seen: 80640, Loss: 1.3470\n",
      "Epoch 8, Examples seen: 81280, Loss: 1.3436\n",
      "Epoch 8, Examples seen: 81920, Loss: 1.3915\n",
      "Epoch 8, Examples seen: 82560, Loss: 1.5324\n",
      "Epoch 8, Examples seen: 83200, Loss: 1.4674\n",
      "Epoch 8, Examples seen: 83840, Loss: 1.5296\n",
      "Epoch 8, Examples seen: 84480, Loss: 1.5711\n",
      "Epoch 8, Examples seen: 85120, Loss: 1.3577\n",
      "Epoch 8, Examples seen: 85760, Loss: 1.6065\n",
      "Epoch 8, Examples seen: 86400, Loss: 1.1534\n"
     ]
    },
    {
     "name": "stderr",
     "output_type": "stream",
     "text": [
      " 90%|█████████ | 9/10 [02:24<00:15, 15.97s/it]"
     ]
    },
    {
     "name": "stdout",
     "output_type": "stream",
     "text": [
      "Epoch 9/10, Loss: 1.4460, Train Accuracy: 39.22%, Validation Accuracy: 37.25%\n",
      "Epoch 9, Examples seen: 87040, Loss: 1.3525\n",
      "Epoch 9, Examples seen: 87680, Loss: 1.4424\n",
      "Epoch 9, Examples seen: 88320, Loss: 1.2068\n",
      "Epoch 9, Examples seen: 88960, Loss: 1.4802\n",
      "Epoch 9, Examples seen: 89600, Loss: 1.2880\n",
      "Epoch 9, Examples seen: 90240, Loss: 1.2409\n",
      "Epoch 9, Examples seen: 90880, Loss: 1.2902\n",
      "Epoch 9, Examples seen: 91520, Loss: 1.4021\n",
      "Epoch 9, Examples seen: 92160, Loss: 1.6415\n",
      "Epoch 9, Examples seen: 92800, Loss: 1.3445\n",
      "Epoch 9, Examples seen: 93440, Loss: 1.2209\n",
      "Epoch 9, Examples seen: 94080, Loss: 1.1114\n",
      "Epoch 9, Examples seen: 94720, Loss: 1.5219\n",
      "Epoch 9, Examples seen: 95360, Loss: 1.4311\n",
      "Epoch 9, Examples seen: 96000, Loss: 1.5288\n"
     ]
    },
    {
     "name": "stderr",
     "output_type": "stream",
     "text": [
      "100%|██████████| 10/10 [02:40<00:00, 16.01s/it]\n"
     ]
    },
    {
     "name": "stdout",
     "output_type": "stream",
     "text": [
      "Epoch 10/10, Loss: 1.4275, Train Accuracy: 39.65%, Validation Accuracy: 37.38%\n"
     ]
    },
    {
     "name": "stderr",
     "output_type": "stream",
     "text": [
      "100%|██████████| 782/782 [00:15<00:00, 51.02it/s] "
     ]
    },
    {
     "name": "stdout",
     "output_type": "stream",
     "text": [
      "Test Accuracy: 37.56%\n"
     ]
    },
    {
     "name": "stderr",
     "output_type": "stream",
     "text": [
      "\n"
     ]
    },
    {
     "data": {
      "text/html": [],
      "text/plain": [
       "<IPython.core.display.HTML object>"
      ]
     },
     "metadata": {},
     "output_type": "display_data"
    },
    {
     "data": {
      "text/html": [
       "<br>    <style><br>        .wandb-row {<br>            display: flex;<br>            flex-direction: row;<br>            flex-wrap: wrap;<br>            justify-content: flex-start;<br>            width: 100%;<br>        }<br>        .wandb-col {<br>            display: flex;<br>            flex-direction: column;<br>            flex-basis: 100%;<br>            flex: 1;<br>            padding: 10px;<br>        }<br>    </style><br><div class=\"wandb-row\"><div class=\"wandb-col\"><h3>Run history:</h3><br/><table class=\"wandb\"><tr><td>epoch</td><td>▁▁▁▁▂▂▂▂▂▃▃▃▃▃▃▃▄▄▄▄▅▅▅▅▅▆▆▆▆▆▆▆▆▆▇▇████</td></tr><tr><td>loss</td><td>█▆▆▅▅▅▅▅▅▄▄▃▅▄▃▃▃▂▃▂▃▃▅▃▂▂▂▃▃▂▃▄▃▄▄▃▂▃▃▁</td></tr><tr><td>test_accuracy</td><td>▁</td></tr><tr><td>train_accuracy</td><td>▁▃▅▆▇▇████</td></tr><tr><td>train_loss</td><td>█▅▄▃▂▂▂▁▁▁</td></tr><tr><td>val_accuracy</td><td>▁▂▄▆▇▇█▇██</td></tr></table><br/></div><div class=\"wandb-col\"><h3>Run summary:</h3><br/><table class=\"wandb\"><tr><td>epoch</td><td>9</td></tr><tr><td>loss</td><td>1.52879</td></tr><tr><td>test_accuracy</td><td>37.562</td></tr><tr><td>train_accuracy</td><td>39.64583</td></tr><tr><td>train_loss</td><td>1.42747</td></tr><tr><td>val_accuracy</td><td>37.375</td></tr></table><br/></div></div>"
      ],
      "text/plain": [
       "<IPython.core.display.HTML object>"
      ]
     },
     "metadata": {},
     "output_type": "display_data"
    },
    {
     "data": {
      "text/html": [
       " View run <strong style=\"color:#cdcd00\">tender-caress-26</strong> at: <a href='https://wandb.ai/atsou2-johns-hopkins-university/custom-vgg-model/runs/aiy3jix3' target=\"_blank\">https://wandb.ai/atsou2-johns-hopkins-university/custom-vgg-model/runs/aiy3jix3</a><br> View project at: <a href='https://wandb.ai/atsou2-johns-hopkins-university/custom-vgg-model' target=\"_blank\">https://wandb.ai/atsou2-johns-hopkins-university/custom-vgg-model</a><br>Synced 5 W&B file(s), 0 media file(s), 0 artifact file(s) and 0 other file(s)"
      ],
      "text/plain": [
       "<IPython.core.display.HTML object>"
      ]
     },
     "metadata": {},
     "output_type": "display_data"
    },
    {
     "data": {
      "text/html": [
       "Find logs at: <code>.\\wandb\\run-20250215_142628-aiy3jix3\\logs</code>"
      ],
      "text/plain": [
       "<IPython.core.display.HTML object>"
      ]
     },
     "metadata": {},
     "output_type": "display_data"
    }
   ],
   "source": [
    "run = wandb.init(project=\"custom-vgg-model\", config=hyperparameters)\n",
    "config = wandb.config\n",
    "\n",
    "model, train_loader, val_loader, test_loader, criterion, optimizer = make(config)\n",
    "\n",
    "print(model)\n",
    "\n",
    "print(criterion, optimizer)\n",
    "\n",
    "# and use them to train the model\n",
    "train.train(config, model, train_loader, val_loader, test_loader,criterion, optimizer)\n",
    "#finish run\n",
    "run.finish()"
   ]
  },
  {
   "cell_type": "code",
   "execution_count": 5,
   "metadata": {},
   "outputs": [],
   "source": [
    "run.finish()"
   ]
  },
  {
   "cell_type": "code",
   "execution_count": 6,
   "metadata": {},
   "outputs": [],
   "source": [
    "# Load ResNet-18 model\n",
    "def load_resnet18(n_classes):\n",
    "    model = models.resnet18(pretrained=True)\n",
    "    # Modify the final fully connected layer to have n_classes output units\n",
    "    model.fc = nn.Linear(model.fc.in_features, n_classes)\n",
    "    return model"
   ]
  }
 ],
 "metadata": {
  "kernelspec": {
   "display_name": "Python 3",
   "language": "python",
   "name": "python3"
  },
  "language_info": {
   "codemirror_mode": {
    "name": "ipython",
    "version": 3
   },
   "file_extension": ".py",
   "mimetype": "text/x-python",
   "name": "python",
   "nbconvert_exporter": "python",
   "pygments_lexer": "ipython3",
   "version": "3.11.9"
  }
 },
 "nbformat": 4,
 "nbformat_minor": 2
}
