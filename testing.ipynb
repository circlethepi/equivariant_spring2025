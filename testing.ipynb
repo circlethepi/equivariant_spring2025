{
 "cells": [
  {
   "cell_type": "code",
   "execution_count": 1,
   "metadata": {},
   "outputs": [],
   "source": [
    "from src import notebook, datasets, build_models,caluclate_basis, custom_blocks, train, utils\n",
    "import torch\n",
    "import torch.nn as nn\n",
    "import torchvision.models as models\n",
    "import torch.optim as optim\n",
    "import matplotlib.pyplot as plt\n",
    "import numpy as np \n",
    "import argparse\n",
    "from tqdm import tqdm   \n",
    "from torchsummary import summary"
   ]
  },
  {
   "cell_type": "code",
   "execution_count": null,
   "metadata": {},
   "outputs": [
    {
     "name": "stderr",
     "output_type": "stream",
     "text": [
      "C:\\Users\\adamy\\AppData\\Local\\Packages\\PythonSoftwareFoundation.Python.3.11_qbz5n2kfra8p0\\LocalCache\\local-packages\\Python311\\site-packages\\torchvision\\models\\_utils.py:208: UserWarning: The parameter 'pretrained' is deprecated since 0.13 and may be removed in the future, please use 'weights' instead.\n",
      "  warnings.warn(\n",
      "C:\\Users\\adamy\\AppData\\Local\\Packages\\PythonSoftwareFoundation.Python.3.11_qbz5n2kfra8p0\\LocalCache\\local-packages\\Python311\\site-packages\\torchvision\\models\\_utils.py:223: UserWarning: Arguments other than a weight enum or `None` for 'weights' are deprecated since 0.13 and may be removed in the future. The current behavior is equivalent to passing `weights=ResNet18_Weights.IMAGENET1K_V1`. You can also use `weights=ResNet18_Weights.DEFAULT` to get the most up-to-date weights.\n",
      "  warnings.warn(msg)\n",
      "100%|██████████| 157/157 [00:04<00:00, 38.81it/s] "
     ]
    },
    {
     "name": "stdout",
     "output_type": "stream",
     "text": [
      "Test Accuracy: 5.53%\n"
     ]
    },
    {
     "name": "stderr",
     "output_type": "stream",
     "text": [
      "\n"
     ]
    },
    {
     "data": {
      "text/plain": [
       "5.53"
      ]
     },
     "execution_count": 3,
     "metadata": {},
     "output_type": "execute_result"
    }
   ],
   "source": [
    "custom_args = argparse.Namespace(arch=['64', 'M', '128'], \n",
    "                                 batch_norm=False,\n",
    "                                 bias=False,\n",
    "                                 classifier_layers=[256,256],\n",
    "                                 classifier_bias=False,\n",
    "                                 classifier_dropout=0,\n",
    "                                 avgpool=True,\n",
    "                                 avgpool_size=[1,1],  # Adjusted avgpool size to (1, 1)\n",
    "                                 dataset=\"mnist\",\n",
    "                                 greyscale=False,\n",
    "                                 n_classes=10,\n",
    "                                 epochs=10, \n",
    "                                 batch_size=64,\n",
    "                                 optimizer=\"Adam\",\n",
    "                                 lr=0.001,\n",
    "                                 criterion=\"CrossEntropyLoss\",\n",
    "                                 seed=42\n",
    "                                 )\n",
    "# Load ResNet-18 model\n",
    "def load_resnet18(n_classes):\n",
    "    model = models.resnet18(pretrained=True)\n",
    "    # Modify the final fully connected layer to have n_classes output units\n",
    "    model.fc = nn.Linear(model.fc.in_features, n_classes)\n",
    "    return model\n",
    "\n",
    "# get dataloaders\n",
    "train_loader, val_loader, test_loader = datasets.get_dataloaders(custom_args, logfile=None, summaryfile=None, log=False)\n",
    "# build model\n",
    "model = load_resnet18(custom_args.n_classes)\n",
    "#model = model.to(torch.device('cuda' if torch.cuda.is_available() else 'cpu'))\n",
    "#model = build_models.build_model_from_args(custom_args)\n",
    "# train\n",
    "train_losses, train_accuracies, val_accuracies, test_accuracy = train.train(custom_args, model, train_loader, val_loader, test_loader)\n",
    "#train.test_model(model, test_loader,device= torch.device('cuda' if torch.cuda.is_available() else 'cpu'))\n",
    "# log results\n",
    "print(f\"Final Test Accuracy: {test_accuracy}\")\n",
    "print(f\"Final Validation Accuracy: {val_accuracies[-1]}\")\n",
    "print(f\"Final Training Accuracy: {train_accuracies[-1]}\")\n",
    "print(f\"Final Training Loss: {train_losses[-1]}\")"
   ]
  },
  {
   "cell_type": "code",
   "execution_count": null,
   "metadata": {},
   "outputs": [],
   "source": []
  }
 ],
 "metadata": {
  "kernelspec": {
   "display_name": "Python 3",
   "language": "python",
   "name": "python3"
  },
  "language_info": {
   "codemirror_mode": {
    "name": "ipython",
    "version": 3
   },
   "file_extension": ".py",
   "mimetype": "text/x-python",
   "name": "python",
   "nbconvert_exporter": "python",
   "pygments_lexer": "ipython3",
   "version": "3.11.9"
  }
 },
 "nbformat": 4,
 "nbformat_minor": 2
}
